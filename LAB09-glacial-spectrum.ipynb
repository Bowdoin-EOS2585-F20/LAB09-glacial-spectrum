{
 "cells": [
  {
   "cell_type": "markdown",
   "metadata": {},
   "source": [
    "# Spectral analysis of time series\n",
    "\n",
    "This lab will examine a few different time series:\n",
    "1. Mona Loa atmospheric $CO_2$ concentrations spanning ~62 years (at monthly intervals, [Keeling et al., 2001](https://escholarship.org/uc/item/09v319r9)).\n",
    "2. Ocean sediment core $\\delta^{18}O$ spanning ~65 million years (at 3000 year intervals, [Westerhold et al. 2020](https://science.sciencemag.org/content/369/6509/1383)),\n",
    "3. (**Optional**) Greenland ice sheet $\\delta^{18}O$ spanning ~100 thousand years (at 50 year intervals, [NGRIP team, 2004](https://epic.awi.de/id/eprint/10226/1/Nor2004a.pdf)), and\n",
    "4. (**Optional**) Dow Jones Industrial Average spanning ~35 years (at daily intervals, [Yahoo Finance, 2020](https://finance.yahoo.com/quote/%5EDJI)). \n",
    "\n",
    "All of these time series have different variability at differrent frequencies.  As you explore the power at each frequency of each time series, the analysis is limited by two key features of each time series:\n",
    "1. length and\n",
    "2. sampling interval.\n",
    "\n",
    "The length of the time series sets the maximum wavelength (lowest frequency) of a signal that can be searched for in the data.  The sampling interval sets the smallest wavelength (highest frequency) that can be identified.  Any frequencies greater than half of the sampling frequency (i.e. twice the time intervals at which the data are presented since $f = 1/T$, where $f$ is frequency and $T$ is the period) cannot be properly represented.  This critical frequency is called the Nyquist frequency.\n",
    "\n",
    "The `ft` function below is used to break up the input time series into a sum of sines and cosines, each wave has its own amplitude and frequency.  Key elements of the original signal can be reconstructed when the most important (i.e. highest energy) waveforms are added back together again.\n",
    "\n",
    "# Procedure\n",
    "\n",
    "1. Read and run the code that creates the plots in Part 1.  This part is a spectral analysis of the time series of atmospheric $CO_2$.\n",
    "2. Repeat the steps for Part 2 but for the ocean $\\delta^{18}O$ time series.  In this case, build a reconstructed time series from the 23ky, 40ky, 100ky, and 400ky bands.\n",
    "3. **Optional:**  Repeat step 1 for the NGRIP and DJIA time series, if you're curious.\n",
    "4. Answer the discussion questions at the end.\n"
   ]
  },
  {
   "cell_type": "code",
   "execution_count": null,
   "metadata": {},
   "outputs": [],
   "source": [
    "#==================================\n",
    "# Setup access to tools\n",
    "#==================================\n",
    "import numpy as np\n",
    "import matplotlib.pyplot as plt\n",
    "\n",
    "#==================================\n",
    "# Load the data \n",
    "#==================================\n",
    "d18o_oce_data = np.loadtxt(\n",
    "    \"/mnt/courses/eos2585/CENOGRID/Westerhold_etal_20_data.xyz\",\n",
    "    comments=\"#\",\n",
    "    delimiter=\" \",\n",
    "    unpack=False)\n",
    "d18o_oce = d18o_oce_data[:,1]\n",
    "d18o_oce_time = d18o_oce_data[:,0]\n",
    "\n",
    "d18o_ice_data = np.loadtxt('/mnt/courses/eos2585/NGRIP/ngrip-d18o-50yr.xyz')\n",
    "d18o_ice = d18o_ice_data[:,1]\n",
    "d18o_ice_time = d18o_ice_data[:,0]\n",
    "\n",
    "djia_data = np.loadtxt(\n",
    "    \"/mnt/courses/eos2585/YAHOO_finance/DJIA_1985to2020.xyz\",\n",
    "    comments=\"#\",\n",
    "    delimiter=\",\",\n",
    "    unpack=False)\n",
    "djia_year = djia_data[:,0]\n",
    "djia_month = djia_data[:,1]\n",
    "djia_day = djia_data[:,2]\n",
    "djia = djia_data[:,7]\n",
    "# Combine year, month, day into a single \"decimal year\" number for the date.\n",
    "djia_time = djia_year + djia_month/12 - 1 + djia_day/365\n",
    "\n",
    "co2_data = np.loadtxt(\"/mnt/courses/eos2585/SIO_CO2/mlo.csv\",\n",
    "    comments=\"D\",\n",
    "    delimiter=\",\",\n",
    "    unpack=False)\n",
    "co2 = co2_data[:,1]\n",
    "co2_time = co2_data[:,0]"
   ]
  },
  {
   "cell_type": "code",
   "execution_count": null,
   "metadata": {},
   "outputs": [],
   "source": [
    "#--------------------------------------------------------------------------\n",
    "# Based on the numpy.linalg.lstsq documentation\n",
    "# at: https://numpy.org/doc/stable/reference/generated/numpy.linalg.lstsq.html\n",
    "# this function computes the slope and intercept\n",
    "# of the line of best fit.\n",
    "#--------------------------------------------------------------------------\n",
    "def find_slope_intercept(x,y):\n",
    "    A = np.vstack([x, np.ones(len(x))]).T\n",
    "    return np.linalg.lstsq(A, y, rcond=None)[0]"
   ]
  },
  {
   "cell_type": "code",
   "execution_count": null,
   "metadata": {},
   "outputs": [],
   "source": [
    "#--------------------------------------------------------------------------\n",
    "# Find the index in an array given an approximate value (the closest value)\n",
    "#--------------------------------------------------------------------------\n",
    "def find_approx_index(x,v):\n",
    "    # Compute the absolute value of the difference\n",
    "    # between each element in the input array, x,\n",
    "    # and the value we seek, v.  The smallest value\n",
    "    # is the closest value to the value we seek.\n",
    "    abs_diff = np.abs(x-v)\n",
    "    \n",
    "    # Return the location of the smallest absolute\n",
    "    # difference.\n",
    "    return np.where(abs_diff == np.min(abs_diff))"
   ]
  },
  {
   "cell_type": "code",
   "execution_count": null,
   "metadata": {},
   "outputs": [],
   "source": [
    "#--------------------------------------------------------------------------\n",
    "# Compute the (slow) Fourier transform of the INput SIGnal (insig) with\n",
    "# the number of basis functions nbasis.  Also required is the time\n",
    "# axis defining the points of the signal.  Outputs are:\n",
    "# f = frequency corresponding to each basis function [Hz]\n",
    "# w = angular freq. corresponding to each basis function [rad/s]\n",
    "# a = coefficients for the cosines [units of input signal]\n",
    "# b = coefficients for the sines [units of input signal]\n",
    "# They are returned as a list for iterable unpacking, e.g.\n",
    "# f,w,a,b = ft(t,s,n)\n",
    "#\n",
    "# Stefan Gary, Feb. 2009, translated to Python Nov. 2020.\n",
    "#--------------------------------------------------------------------------\n",
    "def ft(t_axis,insig,nbasis):\n",
    "\n",
    "    # Compute the period from the given time axis\n",
    "    T = np.max(t_axis)-np.min(t_axis);\n",
    "\n",
    "    # Allocate memory for the output\n",
    "    a = np.zeros(nbasis);  # Coefficients for the cosines\n",
    "    b = np.zeros(nbasis);  # Coefficients for the sines\n",
    "    w = np.zeros(nbasis);  # Angular frequency\n",
    "    f = np.zeros(nbasis);  # Regular frequency\n",
    "\n",
    "    # Compute the coefficients for each basis function\n",
    "    # using the explicit orthogonality condition (direct\n",
    "    # integration).\n",
    "    #\n",
    "    # Loop starts with q = 1 -> lowest frequency with period length of signal\n",
    "    # More basis functions will go to higher and higher frequencies.\n",
    "    for q in range(nbasis):\n",
    "        #print('For basis function number---'+str(q))\n",
    "        f[q] = (q+1)/T\n",
    "        w[q] = 2*np.pi*f[q]\n",
    "        a[q] = (2/T)*np.trapz(insig*np.cos(w[q]*t_axis),t_axis)\n",
    "        b[q] = (2/T)*np.trapz(insig*np.sin(w[q]*t_axis),t_axis);                     \n",
    "\n",
    "    return [f,w,a,b]"
   ]
  },
  {
   "cell_type": "markdown",
   "metadata": {},
   "source": [
    "# Part 1: $CO_2$ time series as a first example\n",
    "\n",
    "The $CO_2$ time series is a great starting point because it has:\n",
    "1. clear seasonality and a\n",
    "2. clear long-term trend.\n",
    "\n",
    "Both of these features are immediately visible by eye.  The next\n",
    "block of code steps through the process of detrending, finding\n",
    "the power of each frequency in the signal, and then plotting:\n",
    "1. the original signal,\n",
    "2. the spectrum, and the\n",
    "3. signal at just one frequency (the annual cycle)."
   ]
  },
  {
   "cell_type": "code",
   "execution_count": null,
   "metadata": {},
   "outputs": [],
   "source": [
    "# Detrend\n",
    "slope,intercept = find_slope_intercept(co2_time,co2)\n",
    "co2_detrend = co2 - co2_time*slope - intercept\n",
    "\n",
    "# Find power at each frequency\n",
    "# The (slow) Fourier transform function\n",
    "# used here is much simpler and slower than the\n",
    "# fast Fourier transform (FFT) built into numpy.\n",
    "# An example for using the FFT is below.\n",
    "f,w,a,b = ft(co2_time,co2_detrend,1000)\n",
    "\n",
    "# power = np.abs(np.fft.rfft(co2_detrend))\n",
    "\n",
    "#-------------------------------------\n",
    "# Plots!\n",
    "fig, (ax0, ax1, ax2, ax3) = plt.subplots(1,4,figsize=(20,5))\n",
    "ax0.plot(co2_time,co2)\n",
    "ax0.plot(co2_time,co2_time*slope+intercept,'red')\n",
    "ax0.legend((\"Raw CO2 data\",\"Line of best fit\"))\n",
    "ax0.set(\n",
    "    title=\"Atmospheric CO2 time series\",\n",
    "    xlabel=\"Time, t [years]\",\n",
    "    ylabel=\"CO2 at Mona Loa [ppm]\")\n",
    "\n",
    "ax1.plot(co2_time,co2_detrend)\n",
    "ax1.set(\n",
    "    title=\"Detrended CO2 time series\",\n",
    "    xlabel=\"Time, t [years]\",\n",
    "    ylabel=\"CO2 at Mona Loa [ppm]\")\n",
    "ax1.grid()\n",
    "\n",
    "ax2.plot(f,np.log(np.sqrt(a**2+b**2)))\n",
    "ax2.set_xlim(0,6)\n",
    "ax2.set(\n",
    "    title=\"Spectrum of CO2 time series\",\n",
    "    xlabel=\"Frequency, f [cycles/year]\",\n",
    "    ylabel=\"Log of amplitude of each frequency\")\n",
    "ax2.grid()\n",
    "\n",
    "# Recreate the signal and plot\n",
    "# One could search for the index of f[] manually for frequency of 1 cycle/year.\n",
    "# This handy function automates the search!  Test for yourself that it's\n",
    "# finding the closest value.\n",
    "q = find_approx_index(f,1.0)\n",
    "ax3.plot(co2_time,a[q]*np.cos(w[q]*co2_time)+b[q]*np.sin(w[q]*co2_time))\n",
    "ax3.set_xlim(1958,1962)\n",
    "ax3.set(\n",
    "    title=\"Seasonal cycle at \"+str(f[q])+\" cycle/year\",\n",
    "    xlabel=\"Time, t [years]\",\n",
    "    ylabel=\"CO2 [ppm]\")"
   ]
  },
  {
   "cell_type": "markdown",
   "metadata": {},
   "source": [
    "# Part 2: Paleoclimate record\n",
    "\n",
    "Based on Hays et al. (1976) we expect to find 23,000 year, 40,000 year, and 100,000 year peaks in the Westerhold et al. (2020) $\\delta^{18}O$ benthic foraminifer time series. Because the Westerhold et al. (2020) time series is much longer than the ~500,000 year time series in Hays et al. (1976), we can also search for the 400,000 year eccentricity component. These two papers both used ocean $\\delta^{18}O$ and these robust signals should be present over the global ocean.  Repeat the spectral analysis of Part 1 using the Westerhold et al. (2020) data.\n",
    "\n",
    "Use about 3000 basis functions; the more basis functions you use, the higher the frequency that's resolved relative to the total length of the dataset.  Since the Westerhold et al. (2020) data set has many more points in it than the Keeling et al. (2001) $CO_2$ time series, you need greater temporal resolution here in Part 2 than in Part 1."
   ]
  },
  {
   "cell_type": "code",
   "execution_count": null,
   "metadata": {},
   "outputs": [],
   "source": [
    "# Work with d18o_oce here"
   ]
  },
  {
   "cell_type": "code",
   "execution_count": null,
   "metadata": {},
   "outputs": [],
   "source": [
    "# Work with NGRIP (d18o_ice) here"
   ]
  },
  {
   "cell_type": "code",
   "execution_count": null,
   "metadata": {},
   "outputs": [],
   "source": [
    "# Work with DJIA here"
   ]
  },
  {
   "cell_type": "markdown",
   "metadata": {},
   "source": [
    "# Discussion questions\n",
    "\n",
    "## Questions about Part 1 - the $CO_2$ time series\n",
    "\n",
    "1. Expand the right side of the spectrum plot by adjusting the command `ax2.set_xlim(0,6)`.  Describe what happens with frequencies greater than about 6 cycles per year.  Do you think you can trust that part of the plot?  Why or why not?"
   ]
  },
  {
   "cell_type": "code",
   "execution_count": null,
   "metadata": {},
   "outputs": [],
   "source": []
  },
  {
   "cell_type": "markdown",
   "metadata": {},
   "source": [
    "2. Change the spectrum plot by taking the Fourier transform of the raw data instead of the detrended data.  Qualitatively describe the differences between the spectra of detrended and raw data.  Why, in general, is detrending helpful?"
   ]
  },
  {
   "cell_type": "code",
   "execution_count": null,
   "metadata": {},
   "outputs": [],
   "source": []
  },
  {
   "cell_type": "markdown",
   "metadata": {},
   "source": [
    "3. Describe how the seasonal cycle of $CO_2$ generated here is consistent with **seasonal** global changes in photosynthesis and respiration.  "
   ]
  },
  {
   "cell_type": "code",
   "execution_count": null,
   "metadata": {},
   "outputs": [],
   "source": []
  },
  {
   "cell_type": "markdown",
   "metadata": {},
   "source": [
    "## Questions about Part 2 - the $\\delta^{18}O$ time series\n",
    "\n",
    "4. Qualitatively describe the frequency spectrum you created from the ocean $\\delta^{18}O$ time series.  Do you see evidence for the obliquity, precession, and eccentricity components?  Why or why not?"
   ]
  },
  {
   "cell_type": "code",
   "execution_count": null,
   "metadata": {},
   "outputs": [],
   "source": []
  },
  {
   "cell_type": "markdown",
   "metadata": {},
   "source": [
    "5. Are the results here (qualitatively) more or less noisy than in Hays et al. (1976)?  Why do you think there is or isn't a difference?"
   ]
  },
  {
   "cell_type": "code",
   "execution_count": null,
   "metadata": {},
   "outputs": [],
   "source": []
  },
  {
   "cell_type": "markdown",
   "metadata": {},
   "source": [
    "6. (**OPTIONAL**) For the other two time series, NGRIP and DJIA, what stories do you see in the frequency spectra?"
   ]
  },
  {
   "cell_type": "code",
   "execution_count": null,
   "metadata": {},
   "outputs": [],
   "source": []
  },
  {
   "cell_type": "markdown",
   "metadata": {},
   "source": [
    "## Question about Part 1 *or* Part 2\n",
    "\n",
    "7. Propose a hypothesis and state the result of your hypothesis test.  Be sure to support your conclusion(s) with specific results from this lab."
   ]
  },
  {
   "cell_type": "code",
   "execution_count": null,
   "metadata": {},
   "outputs": [],
   "source": []
  }
 ],
 "metadata": {
  "kernelspec": {
   "display_name": "Python 3.6",
   "language": "python",
   "name": "python3.6"
  },
  "language_info": {
   "codemirror_mode": {
    "name": "ipython",
    "version": 3
   },
   "file_extension": ".py",
   "mimetype": "text/x-python",
   "name": "python",
   "nbconvert_exporter": "python",
   "pygments_lexer": "ipython3",
   "version": "3.6.9"
  }
 },
 "nbformat": 4,
 "nbformat_minor": 2
}
